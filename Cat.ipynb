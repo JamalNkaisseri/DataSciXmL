{
  "nbformat": 4,
  "nbformat_minor": 0,
  "metadata": {
    "colab": {
      "provenance": [],
      "authorship_tag": "ABX9TyNWtmirF0tZne0fgFevM8vb",
      "include_colab_link": true
    },
    "kernelspec": {
      "name": "python3",
      "display_name": "Python 3"
    },
    "language_info": {
      "name": "python"
    }
  },
  "cells": [
    {
      "cell_type": "markdown",
      "metadata": {
        "id": "view-in-github",
        "colab_type": "text"
      },
      "source": [
        "<a href=\"https://colab.research.google.com/github/JamalNkaisseri/DataSciXmL/blob/main/Cat.ipynb\" target=\"_parent\"><img src=\"https://colab.research.google.com/assets/colab-badge.svg\" alt=\"Open In Colab\"/></a>"
      ]
    },
    {
      "cell_type": "code",
      "execution_count": 1,
      "metadata": {
        "colab": {
          "base_uri": "https://localhost:8080/",
          "height": 106
        },
        "id": "5eOv7GGNSPUX",
        "outputId": "847b7eba-7898-4405-e4b3-d39000e68c76"
      },
      "outputs": [
        {
          "output_type": "error",
          "ename": "SyntaxError",
          "evalue": "invalid syntax (<ipython-input-1-465ca1625e5b>, line 4)",
          "traceback": [
            "\u001b[0;36m  File \u001b[0;32m\"<ipython-input-1-465ca1625e5b>\"\u001b[0;36m, line \u001b[0;32m4\u001b[0m\n\u001b[0;31m    This notebook contains data collection, exploration, and preprocessing steps for stock market analysis.\u001b[0m\n\u001b[0m         ^\u001b[0m\n\u001b[0;31mSyntaxError\u001b[0m\u001b[0;31m:\u001b[0m invalid syntax\n"
          ]
        }
      ],
      "source": [
        "# Stock Data Collection, Exploration, and Preprocessing\n",
        "# Stock Data Collection, Exploration, and Preprocessing\n",
        "\n",
        "\n",
        "import pandas as pd\n",
        "import matplotlib.pyplot as plt\n",
        "import seaborn as sns\n",
        "\n",
        "# Load dataset\n",
        "df = pd.read_csv(\"stock_data.csv\")\n",
        "\n",
        "# Check dataset structure\n",
        "df.info()\n",
        "\n",
        "# Summary statistics\n",
        "df.describe()\n",
        "\n",
        "# Check for missing values\n",
        "df.isnull().sum()\n",
        "\n",
        "# Unique stock symbols\n",
        "df[\"Stock\"].unique()\n",
        "\n",
        "plt.figure(figsize=(12, 6))\n",
        "for stock in df[\"Stock\"].unique():\n",
        "    subset = df[df[\"Stock\"] == stock]\n",
        "    plt.plot(subset[\"Date\"], subset[\"Close\"], label=stock)\n",
        "\n",
        "plt.legend()\n",
        "plt.title(\"Stock Closing Prices Over Time\")\n",
        "plt.xlabel(\"Date\")\n",
        "plt.ylabel(\"Closing Price\")\n",
        "plt.xticks(rotation=45)\n",
        "plt.show()\n",
        "\n",
        "from sklearn.preprocessing import LabelEncoder, MinMaxScaler\n",
        "\n",
        "# Fill missing numerical values with column median\n",
        "df.fillna(df.median(numeric_only=True), inplace=True)\n",
        "\n",
        "# Encode categorical stock symbols\n",
        "le = LabelEncoder()\n",
        "df[\"Stock\"] = le.fit_transform(df[\"Stock\"])\n",
        "\n",
        "# Normalize numerical features\n",
        "scaler = MinMaxScaler()\n",
        "df[[\"Open\", \"Close\", \"High\", \"Low\", \"Volume\"]] = scaler.fit_transform(df[[\"Open\", \"Close\", \"High\", \"Low\", \"Volume\"]])\n",
        "\n",
        "# Save processed data\n",
        "df.to_csv(\"processed_stock_data.csv\", index=False)\n",
        "\n",
        "# Display the first few rows of the processed data\n",
        "df.head()\n",
        "\n",
        "### Conclusion\n",
        "The dataset has been successfully processed:\n",
        "- Missing values were handled using median imputation.\n",
        "- Stock symbols were converted to numerical format using Label Encoding.\n",
        "- Feature scaling was applied using MinMaxScaler.\n",
        "- The cleaned dataset was saved as `processed_stock_data.csv` for further analysis.\n",
        "\n",
        "This dataset is now ready for machine learning model development.\n",
        "\n",
        "# Load dataset\n",
        "df = pd.read_csv(\"stock_data.csv\")\n",
        "\n",
        "# Check dataset structure\n",
        "df.info()\n",
        "\n",
        "# Summary statistics\n",
        "df.describe()\n",
        "\n",
        "# Check for missing values\n",
        "df.isnull().sum()\n",
        "\n",
        "# Unique stock symbols\n",
        "df[\"Stock\"].unique()\n",
        "\n",
        "plt.figure(figsize=(12, 6))\n",
        "for stock in df[\"Stock\"].unique():\n",
        "    subset = df[df[\"Stock\"] == stock]\n",
        "    plt.plot(subset[\"Date\"], subset[\"Close\"], label=stock)\n",
        "\n",
        "plt.legend()\n",
        "plt.title(\"Stock Closing Prices Over Time\")\n",
        "plt.xlabel(\"Date\")\n",
        "plt.ylabel(\"Closing Price\")\n",
        "plt.xticks(rotation=45)\n",
        "plt.show()\n",
        "\n",
        "from sklearn.preprocessing import LabelEncoder, MinMaxScaler\n",
        "\n",
        "# Fill missing numerical values with column median\n",
        "df.fillna(df.median(numeric_only=True), inplace=True)\n",
        "\n",
        "# Encode categorical stock symbols\n",
        "le = LabelEncoder()\n",
        "df[\"Stock\"] = le.fit_transform(df[\"Stock\"])\n",
        "\n",
        "# Normalize numerical features\n",
        "scaler = MinMaxScaler()\n",
        "df[[\"Open\", \"Close\", \"High\", \"Low\", \"Volume\"]] = scaler.fit_transform(df[[\"Open\", \"Close\", \"High\", \"Low\", \"Volume\"]])\n",
        "\n",
        "# Save processed data\n",
        "df.to_csv(\"processed_stock_data.csv\", index=False)\n",
        "\n",
        "# Display the first few rows of the processed data\n",
        "df.head()\n",
        "\n",
        "### Conclusion\n",
        "The dataset has been successfully processed:\n",
        "- Missing values were handled using median imputation.\n",
        "- Stock symbols were converted to numerical format using Label Encoding.\n",
        "- Feature scaling was applied using MinMaxScaler.\n",
        "- The cleaned dataset was saved as `processed_stock_data.csv` for further analysis.\n",
        "\n",
        "This dataset is now ready for machine learning model development.\n",
        "\n"
      ]
    },
    {
      "cell_type": "code",
      "source": [],
      "metadata": {
        "id": "8mLYScy4TJ5l"
      },
      "execution_count": null,
      "outputs": []
    }
  ]
}